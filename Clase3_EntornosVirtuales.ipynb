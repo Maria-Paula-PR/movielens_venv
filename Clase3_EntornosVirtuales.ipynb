{
 "cells": [
  {
   "cell_type": "markdown",
   "id": "3dd7120de41d047f",
   "metadata": {},
   "source": [
    "# Entornos Virtuales y Gestión de Dependencias en Python\n",
    "\n",
    "## Objetivo\n",
    "En este notebook, aprenderemos sobre entornos virtuales, cómo manejar diferentes versiones de Python con `pyenv`, y cómo gestionar dependencias usando `Poetry`.\n"
   ]
  },
  {
   "cell_type": "markdown",
   "id": "5d8cef3edb02a442",
   "metadata": {},
   "source": [
    "## 1. Introducción a los Entornos Virtuales\n",
    "\n",
    "### ¿Qué es un Entorno Virtual?\n",
    "Un **entorno virtual** es un espacio aislado dentro de tu sistema que te permite instalar y gestionar las bibliotecas de Python que necesitas para un proyecto sin interferir con otros proyectos o el sistema global.\n",
    "\n",
    "#### ¿Por qué usar Entornos Virtuales?\n",
    "- **Evitar Conflictos**: Imagina que estás trabajando en dos proyectos diferentes que requieren distintas versiones de la misma biblioteca. Sin un entorno virtual, esto sería un problema.\n",
    "- **Reproducibilidad**: Permite que otras personas puedan reproducir tu entorno de trabajo exacto en sus propias máquinas.\n",
    "\n",
    "<img style=\"display: block; margin: auto;\" src=\"images/venv.png\" title=\"git\" width=\"380\" height=\"50\">\n"
   ]
  },
  {
   "cell_type": "markdown",
   "id": "bf5c923b55621eee",
   "metadata": {},
   "source": [
    "### ¿Cómo utilizar los entorno virtuales?\n",
    "\n",
    "1. Crear el ambiente virtual\n",
    "2. Activar el ambiente virtual **(MUY IMPORTANTE)**"
   ]
  },
  {
   "cell_type": "markdown",
   "id": "912d7b102ca7987a",
   "metadata": {},
   "source": [
    "___\n",
    "### Estructura del Proyecto\n",
    "<img style=\"display: block; margin: auto;\" src=\"images/venv-structure1.png\" title=\"git\" width=\"680\" height=\"50\">"
   ]
  },
  {
   "cell_type": "markdown",
   "id": "a99396de8ae4dae9",
   "metadata": {},
   "source": [
    "___\n",
    "### Crear ambiente virtual\n",
    "<img style=\"display: block; margin: auto;\" src=\"images/venv-structure2.png\" title=\"git\" width=\"680\" height=\"50\">"
   ]
  },
  {
   "cell_type": "markdown",
   "id": "354c4e26451a51a7",
   "metadata": {},
   "source": [
    "___\n",
    "### Nueva estructura del proyecto\n",
    "<img style=\"display: block; margin: auto;\" src=\"images/venv-structure3.png\" title=\"git\" width=\"680\" height=\"50\">"
   ]
  },
  {
   "cell_type": "markdown",
   "id": "31c13c8f4deada05",
   "metadata": {},
   "source": [
    "___\n",
    "### Activar/Desactivar\n",
    "<img style=\"display: block; margin: auto;\" src=\"images/venv-structure4.png\" title=\"git\" width=\"680\" height=\"50\">"
   ]
  },
  {
   "cell_type": "markdown",
   "id": "e783cf3e2859f2c4",
   "metadata": {},
   "source": [
    "### Cómo Crear y Usar un Entorno Virtual\n",
    "\n",
    "#### En Unix/Linux:\n",
    "1. Abre una terminal.\n",
    "2. Navega al directorio de tu proyecto.\n",
    "3. Crea el entorno virtual con:\n",
    "    ```bash\n",
    "    python3 -m venv nombre_del_entorno\n",
    "    ```\n",
    "4. Activa el entorno virtual:\n",
    "    ```bash\n",
    "    source nombre_del_entorno/bin/activate\n",
    "    ```\n",
    "\n",
    "#### En Windows:\n",
    "1. Abre el símbolo del sistema (CMD) o PowerShell.\n",
    "2. Navega al directorio de tu proyecto.\n",
    "3. Crea el entorno virtual con:\n",
    "    ```bash\n",
    "    python -m venv nombre_del_entorno\n",
    "    ```\n",
    "4. Activa el entorno virtual:\n",
    "    ```bash\n",
    "    .\\nombre_del_entorno\\Scripts\\activate\n",
    "    ```\n",
    "\n",
    "#### Desactivar el Entorno Virtual\n",
    "Para salir del entorno virtual en cualquier sistema, usa el comando:\n",
    "    ```bash\n",
    "    deactivate\n",
    "    ```"
   ]
  },
  {
   "cell_type": "markdown",
   "id": "c94d6f289cb090c4",
   "metadata": {},
   "source": [
    "### Practica - Trabajo en clase\n",
    "\n",
    "1. Crear un repositorio llamado `movielens-venv`\n",
    "2. Clonar el repositorio en tu local\n",
    "3. Crear y activar un ambiente virtual\n",
    "4. Crear una carpeta `data`\n",
    "5. Descargar el dataset de `movielens`: [Aquí](https://grouplens.org/datasets/movielens/latest/)\n",
    "6. Crear un cuaderno de Jupyter con el siguiente nombre: `TC1_PrimerNombrePrimerApellido.ipynb`, en mi caso sería `TC1_CristianZapata.ipynb` \n",
    "7. Importar el dataset con ayuda de `pandas`\n",
    "8. Realizar un análisis exploratorio de datos (EDA) del dataset importado.\n",
    "\n",
    "\n",
    "Algunas preguntas que se pueden responder (pero no limitadas a estas)\n",
    "- Cuáles fueron los géneros mejor rankeados en promedio en el año 2005?\n",
    "- Cuál es el top 5 de películas mejor rankeadas en promedio?\n",
    "- Cuál es el género con más revies?\n",
    "- Cuáles es el género por año con mejor rating entre el año 2000 y 2010?\n",
    "- Cuál es el usuario con más críticas y cuál es su género favorito?\n"
   ]
  },
  {
   "cell_type": "markdown",
   "id": "2df198ca1ffeda12",
   "metadata": {},
   "source": [
    "# Gestión de Dependencias con `requirements.txt`\n",
    "\n",
    "### ¿Qué es un archivo `requirements.txt`?\n",
    "El archivo `requirements.txt` es un documento que lista todas las bibliotecas y paquetes de Python que tu proyecto necesita para funcionar correctamente. Es especialmente útil cuando quieres compartir tu proyecto con otras personas o cuando lo quieres desplegar en otro entorno (por ejemplo, en un servidor).\n",
    "\n",
    "### ¿Por qué es Importante?\n",
    "- **Reproducibilidad**: Permite que otras personas puedan instalar exactamente las mismas versiones de las bibliotecas que usaste en tu proyecto, evitando problemas de compatibilidad.\n",
    "- **Facilidad de uso**: Con un solo comando, puedes instalar todas las dependencias necesarias para que tu proyecto funcione.\n",
    "___\n",
    "<img style=\"display: block; margin: auto;\" src=\"images/venv-requirements.png\" title=\"git\" width=\"680\" height=\"50\">"
   ]
  },
  {
   "cell_type": "markdown",
   "id": "6d378adb1c42e9fa",
   "metadata": {},
   "source": [
    "\n",
    "### Creación de un archivo `requirements.txt`\n",
    "\n",
    "#### Paso 1: Instalar las Dependencias\n",
    "Primero, asegúrate de que todas las bibliotecas que necesitas estén instaladas en tu entorno virtual. Por ejemplo:\n",
    "\n",
    "```bash\n",
    "pip install nombre_paquete\n",
    "```\n",
    "\n",
    "#### Paso 2: Crear el archivo requirements.txt\n",
    "\n",
    "Una vez que has instalado todas las bibliotecas necesarias, puedes generar el archivo requirements.txt con el siguiente comando\n",
    "```bash\n",
    "pip freeze > requirements.txt\n",
    "\n",
    "```\n",
    "\n",
    "Este comando listará todas las bibliotecas instaladas en tu entorno virtual y sus versiones en el archivo requirements.txt."
   ]
  },
  {
   "cell_type": "markdown",
   "id": "612a7af85636e8c6",
   "metadata": {},
   "source": [
    "### Uso del archivo `requirements.txt` en Otros Entornos\n",
    "### Instalación de Dependencias desde requirements.txt\n",
    "\n",
    "Cuando alguien más clona tu proyecto, o si lo estás desplegando en otro entorno, puedes instalar todas las dependencias listadas en `requirements.txt` usando el siguiente comando:\n",
    "\n",
    "```bash\n",
    "pip install -r requirements.txt\n",
    "```\n",
    "\n",
    "Esto asegurará que todas las bibliotecas necesarias estén instaladas en el nuevo entorno, con las versiones correctas."
   ]
  },
  {
   "cell_type": "markdown",
   "id": "a0c28fefe1de08b7",
   "metadata": {},
   "source": [
    "### Problemas con este enfoque?\n",
    "\n",
    "## Alternativas:\n",
    "1. `pipreqs`\n",
    "2. Crear el archivo `requirements.txt` manualmente"
   ]
  },
  {
   "cell_type": "code",
   "execution_count": null,
   "id": "initial_id",
   "metadata": {
    "collapsed": true,
    "jupyter": {
     "outputs_hidden": true
    }
   },
   "outputs": [],
   "source": []
  }
 ],
 "metadata": {
  "kernelspec": {
   "display_name": "Python 3 (ipykernel)",
   "language": "python",
   "name": "python3"
  },
  "language_info": {
   "codemirror_mode": {
    "name": "ipython",
    "version": 3
   },
   "file_extension": ".py",
   "mimetype": "text/x-python",
   "name": "python",
   "nbconvert_exporter": "python",
   "pygments_lexer": "ipython3",
   "version": "3.8.2"
  }
 },
 "nbformat": 4,
 "nbformat_minor": 5
}
