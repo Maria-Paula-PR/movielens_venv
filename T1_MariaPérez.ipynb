{
 "cells": [
  {
   "cell_type": "markdown",
   "metadata": {},
   "source": [
    "Leer el siguiente artículo, por lo menos las siguientes secciones:\n",
    "- Why We Need PEP 8\n",
    "- Naming Conventions\n",
    "- Code Layout\n",
    "- Tips and Tricks to Help Ensure Your Code Follows PEP 8 (linters and formatters)\n",
    "- Conclusion\n",
    "\n",
    "Hacer un resumen en un cuaderno de jupyter y subirlo al canvas."
   ]
  },
  {
   "cell_type": "markdown",
   "metadata": {},
   "source": [
    "The main reason to use PEP8 is for readability purpose. It seeks to achieve a \"pythonic\" code, which is mainly that it follows the idiomatic writing style specific for Python (readability, simplicity, and clarity). The idea of making the code follow an specific guideline, is that once you come back to read a code that you wrote previously, this style will make it easier for the user to understand what the code was written for. \n",
    "\n",
    "While using PEP8 you can be sure that you named the variables in a correct way, you've added enough white space bewteen lines, and mostly you've commented your code well. All of this will mean your code is more readable and easier to come back to. "
   ]
  },
  {
   "cell_type": "markdown",
   "metadata": {},
   "source": [
    "# Naming Conventions\n",
    "\n",
    "Naming correctly variables, functions, classes among others might save you time later while trying to figure out what each does. \n",
    "\n",
    "- Never use 1, 0 or single letter names, these can be mistaken\n",
    "\n"
   ]
  },
  {
   "cell_type": "markdown",
   "metadata": {},
   "source": [
    "#### Naming Styles\n",
    "- Use lower case while naming **Funcitons**. Separate with underscore\n",
    "- Use a lower case letter or words for **Variables**. Separate with underscore\n",
    "- Start with capital letter for **Classes**. Don´t separate with underscore\n",
    "- Use a lowercase word or words for **Methods**. Separate words with underscores\n",
    "- Use an uppercase single letter, word, or words for **Constants**. Separate words with underscores \n",
    "- Use a short, lowercase word or words for **Modules**. Separate words with underscores\n",
    "- Use a short, lowercase word or words for **Packages**. Don’t separate words with underscores.\n",
    "\n",
    "#### How to choose names\n",
    "It is quite important to think of good names while coding bacasue it will make your code more readable. It might be tempting to use a single letter like x, but unless you are really using x as a mathematical argument, it´s not clear what x is. \n",
    "\n",
    "Example:\n",
    "\n",
    "**Not recommended**"
   ]
  },
  {
   "cell_type": "code",
   "execution_count": 3,
   "metadata": {},
   "outputs": [
    {
     "name": "stdout",
     "output_type": "stream",
     "text": [
      "Smith, John\n"
     ]
    }
   ],
   "source": [
    "x = \"John Smith\"\n",
    "y, z = x.split()\n",
    "print(f\"{z}, {y}\")"
   ]
  },
  {
   "cell_type": "markdown",
   "metadata": {},
   "source": [
    "**Recommended**"
   ]
  },
  {
   "cell_type": "code",
   "execution_count": 4,
   "metadata": {},
   "outputs": [
    {
     "name": "stdout",
     "output_type": "stream",
     "text": [
      "Smith, John\n"
     ]
    }
   ],
   "source": [
    "name = \"John Smith\"\n",
    "first_name, last_name = name.split()\n",
    "print(f\"{last_name}, {first_name}\")"
   ]
  },
  {
   "cell_type": "markdown",
   "metadata": {},
   "source": [
    "# Code Layout\n",
    "How you code is presented also has a great impact on it´s readability \n",
    "\n",
    "#### Black Lines\n",
    "-Surround top-level functions and classes with two blank lines. \n"
   ]
  },
  {
   "cell_type": "code",
   "execution_count": 1,
   "metadata": {},
   "outputs": [],
   "source": [
    "#example\n",
    "class FirstClass:\n",
    "    pass\n",
    "\n",
    "\n",
    "class SecondClass:\n",
    "    pass\n",
    "\n",
    "\n",
    "def top_level_function():\n",
    "    return None"
   ]
  },
  {
   "cell_type": "markdown",
   "metadata": {},
   "source": [
    "-Surround method definitions inside classes with a single blank line."
   ]
  },
  {
   "cell_type": "code",
   "execution_count": 2,
   "metadata": {},
   "outputs": [],
   "source": [
    "class ClassWithMethods:\n",
    "    def first_method(self):\n",
    "        return None\n",
    "\n",
    "    def second_method(self):\n",
    "        return None"
   ]
  },
  {
   "cell_type": "markdown",
   "metadata": {},
   "source": [
    "-Use blank lines sparingly inside functions to show clear steps.\n",
    "the example below has two steps to solve a problem, so it has a black space to distinguish them."
   ]
  },
  {
   "cell_type": "code",
   "execution_count": 3,
   "metadata": {},
   "outputs": [],
   "source": [
    "def calculate_variance(numbers):\n",
    "    sum_numbers = 0\n",
    "    for number in numbers:\n",
    "        sum_numbers = sum_numbers + number\n",
    "    mean = sum_numbers / len(numbers)\n",
    "\n",
    "    sum_squares = 0\n",
    "    for number in numbers:\n",
    "        sum_squares = sum_squares + number**2\n",
    "    mean_squares = sum_squares / len(numbers)\n",
    "\n",
    "    return mean_squares - mean**2"
   ]
  },
  {
   "cell_type": "markdown",
   "metadata": {},
   "source": [
    "#### Maximum Line Length and Line Breaking\n",
    "\n",
    "According to PEP8, lines should be limited to 79 characters. This is in order to have different files open, and be able to see each perfectly. Sometimes we need more than that, so whe separate in two lines, when we have parenthesis, brackets or braces. "
   ]
  },
  {
   "cell_type": "code",
   "execution_count": 4,
   "metadata": {},
   "outputs": [],
   "source": [
    "def function(arg_one, arg_two,\n",
    "             arg_three, arg_four):\n",
    "    return arg_one"
   ]
  },
  {
   "cell_type": "markdown",
   "metadata": {},
   "source": [
    "If it’s impossible to use implied continuation, then you can use backslashes (\\) to break lines instead:"
   ]
  },
  {
   "cell_type": "code",
   "execution_count": 6,
   "metadata": {},
   "outputs": [],
   "source": [
    "#from package import example1, \\\n",
    "    #example2, example3"
   ]
  },
  {
   "cell_type": "markdown",
   "metadata": {},
   "source": [
    "We can also apply this strategy while making mathematical operations. When we do this we should note that we must put the operators before each variable. Breaking before binary operators produces more readable code, so PEP 8 encourages it."
   ]
  },
  {
   "cell_type": "code",
   "execution_count": 7,
   "metadata": {},
   "outputs": [],
   "source": [
    "#recommended\n",
    "# total = (first_variable\n",
    "#          + second_variable\n",
    "#          - third_variable)\n",
    "\n",
    "\n",
    "#not recommended\n",
    "# total = (first_variable +\n",
    "#          second_variable -\n",
    "#          third_variable)"
   ]
  },
  {
   "cell_type": "markdown",
   "metadata": {},
   "source": [
    "#### Tips and Tricks to Help Ensure Your Code Follows PEP 8\n",
    "\n",
    "Tools to help us remember all of these tips. There are two classes of tools that can help you enforce these style rules: linters and autoformatters.\n",
    "\n",
    "\n",
    "##### Linters\n",
    "These are programs that analyzes code and make suggestions to fix each error. Linters can be added to the IDE with extensions. Some good linters for Python code are **pycodestyle, flake8, and ruff.**\n",
    "\n",
    "<br>\n",
    "<br> \n",
    "\n",
    "Using **pycodestyle**\n",
    "\n",
    "The linter outputs the line and column numbers where it encountered a style violation. It also gives you the error code for the specific style violation, together with a short description of the issue."
   ]
  },
  {
   "cell_type": "code",
   "execution_count": 11,
   "metadata": {},
   "outputs": [
    {
     "name": "stdout",
     "output_type": "stream",
     "text": [
      "10\n"
     ]
    }
   ],
   "source": [
    "import math\n",
    "\n",
    "numbers = [1,2,\\\n",
    "3,4]\n",
    "\n",
    "def add_all_numbers_from_collection(\n",
    "    number_one, number_two, number_three,\n",
    "    number_four):\n",
    "    return number_one+number_two + number_three +number_four\n",
    "\n",
    "print (add_all_numbers_from_collection( *numbers ))"
   ]
  },
  {
   "cell_type": "code",
   "execution_count": 8,
   "metadata": {},
   "outputs": [],
   "source": [
    "# $ pycodestyle unfashionable.py\n",
    "# unfashionable.py:3:13: E231 missing whitespace after ','\n",
    "# unfashionable.py:3:15: E231 missing whitespace after ','\n",
    "# unfashionable.py:3:16: E502 the backslash is redundant between brackets\n",
    "# unfashionable.py:4:1: E128 continuation line under-indented for visual indent\n",
    "# unfashionable.py:4:2: E231 missing whitespace after ','\n",
    "# unfashionable.py:6:1: E302 expected 2 blank lines, found 1\n",
    "# unfashionable.py:8:5: E125 continuation line with same indent as next logical line\n",
    "# unfashionable.py:9:50: E225 missing whitespace around operator\n",
    "# unfashionable.py:11:1: E305 expected 2 blank lines after class or function definition, found 1\n",
    "# unfashionable.py:11:6: E211 whitespace before '('\n",
    "# unfashionable.py:11:40: E201 whitespace after '('\n",
    "# unfashionable.py:11:49: E202 whitespace before ')'\n",
    "# unfashionable.py:11:52: W292 no newline at end of file"
   ]
  },
  {
   "cell_type": "markdown",
   "metadata": {},
   "source": [
    "Using **flake8**\n",
    "\n",
    "Flake8 identifies the error and shows you how to fix it. Unlike the previosu one. After fixing the error it will give you feedback on the style."
   ]
  },
  {
   "cell_type": "code",
   "execution_count": 9,
   "metadata": {},
   "outputs": [],
   "source": [
    "# $ flake8 unfashionable.py\n",
    "# unfashionable.py:1:18: E999 SyntaxError: unexpected character after line continuation character"
   ]
  },
  {
   "cell_type": "code",
   "execution_count": 10,
   "metadata": {},
   "outputs": [],
   "source": [
    "# $ flake8 unfashionable.py\n",
    "# unfashionable.py:1:1: F401 'math' imported but unused\n",
    "# unfashionable.py:3:13: E231 missing whitespace after ','\n",
    "# unfashionable.py:3:15: E231 missing whitespace after ','\n",
    "# unfashionable.py:3:16: E502 the backslash is redundant between brackets\n",
    "# unfashionable.py:4:1: E128 continuation line under-indented for visual indent\n",
    "# unfashionable.py:4:2: E231 missing whitespace after ','\n",
    "# unfashionable.py:6:1: E302 expected 2 blank lines, found 1\n",
    "# unfashionable.py:8:5: E125 continuation line with same indent as next logical line\n",
    "# unfashionable.py:9:50: E225 missing whitespace around operator\n",
    "# unfashionable.py:11:1: E305 expected 2 blank lines after class or function definition, found 1\n",
    "# unfashionable.py:11:6: E211 whitespace before '('\n",
    "# unfashionable.py:11:40: E201 whitespace after '('\n",
    "# unfashionable.py:11:49: E202 whitespace before ')'\n",
    "# unfashionable.py:11:52: W292 no newline at end of file"
   ]
  },
  {
   "cell_type": "markdown",
   "metadata": {},
   "source": [
    "#### Autoformatters\n",
    "\n",
    "Autoformatters are programs that refactor your code to conform with PEP 8 automatically. One of these promgrams is black, which correct the code automatically to PEP8, the only difference is that it allows line to 88 characters instead of 79. \n",
    "\n",
    "\n",
    "After the code is corrected it looks like this. "
   ]
  },
  {
   "cell_type": "code",
   "execution_count": 14,
   "metadata": {},
   "outputs": [
    {
     "name": "stdout",
     "output_type": "stream",
     "text": [
      "10\n"
     ]
    }
   ],
   "source": [
    "#not corrected\n",
    "import math\n",
    "\n",
    "numbers = [1,2,\\\n",
    "3,4]\n",
    "\n",
    "def add_all_numbers_from_collection(\n",
    "    number_one, number_two, number_three,\n",
    "    number_four):\n",
    "    return number_one+number_two + number_three +number_four\n",
    "\n",
    "print (add_all_numbers_from_collection( *numbers ))"
   ]
  },
  {
   "cell_type": "code",
   "execution_count": 15,
   "metadata": {},
   "outputs": [
    {
     "name": "stdout",
     "output_type": "stream",
     "text": [
      "10\n"
     ]
    }
   ],
   "source": [
    "#corrected\n",
    "import math\n",
    "\n",
    "numbers = [1, 2, 3, 4]\n",
    "\n",
    "\n",
    "def add_all_numbers_from_collection(number_one, number_two, number_three, number_four):\n",
    "    return number_one + number_two + number_three + number_four\n",
    "\n",
    "\n",
    "print(add_all_numbers_from_collection(*numbers))"
   ]
  },
  {
   "cell_type": "markdown",
   "metadata": {},
   "source": [
    "Inorder to correct the characters you must do the following: \n",
    "\n",
    "$ black --line-length=79 unfashionable.py\n",
    "reformatted unfashionable.py\n",
    "\n",
    "All done! ✨ 🍰 ✨\n",
    "1 file reformatted.\n",
    "\n"
   ]
  },
  {
   "cell_type": "code",
   "execution_count": 16,
   "metadata": {},
   "outputs": [
    {
     "name": "stdout",
     "output_type": "stream",
     "text": [
      "10\n"
     ]
    }
   ],
   "source": [
    "#corrected with 79 characters\n",
    "import math\n",
    "\n",
    "numbers = [1, 2, 3, 4]\n",
    "\n",
    "\n",
    "def add_all_numbers_from_collection(\n",
    "    number_one, number_two, number_three, number_four\n",
    "):\n",
    "    return number_one + number_two + number_three + number_four\n",
    "\n",
    "\n",
    "print(add_all_numbers_from_collection(*numbers))"
   ]
  },
  {
   "cell_type": "markdown",
   "metadata": {},
   "source": [
    "#### Combined Tooling\n",
    "\n",
    "Ruff is a popular tool in the Python community that can act as both a linter and an autoformatter. With default settings the code will look like this."
   ]
  },
  {
   "cell_type": "code",
   "execution_count": 17,
   "metadata": {},
   "outputs": [
    {
     "name": "stdout",
     "output_type": "stream",
     "text": [
      "10\n"
     ]
    }
   ],
   "source": [
    "numbers = [1, 2, 3, 4]\n",
    "\n",
    "\n",
    "def add_all_numbers_from_collection(number_one, number_two, number_three, number_four):\n",
    "    return number_one + number_two + number_three + number_four\n",
    "\n",
    "\n",
    "print(add_all_numbers_from_collection(*numbers))"
   ]
  },
  {
   "cell_type": "markdown",
   "metadata": {},
   "source": [
    "#### Conclusion\n",
    "\n",
    "\n",
    "In conclusion, following PEP8 guidelines is important for writing high-quality, readable Python code. These ideas not only improve your code's clarity and maintainability but also make collaboration with others easier. By following PEP8, you're better prepared to share your work with potential employers and collaborators. Utilizing tools like linters and autoformatters can help you easily maintain PEP8 compliance. While the guidelines may seem strict, they ultimately contribute to better coding practices. "
   ]
  }
 ],
 "metadata": {
  "kernelspec": {
   "display_name": "Python 3",
   "language": "python",
   "name": "python3"
  },
  "language_info": {
   "codemirror_mode": {
    "name": "ipython",
    "version": 3
   },
   "file_extension": ".py",
   "mimetype": "text/x-python",
   "name": "python",
   "nbconvert_exporter": "python",
   "pygments_lexer": "ipython3",
   "version": "3.8.2"
  }
 },
 "nbformat": 4,
 "nbformat_minor": 2
}
